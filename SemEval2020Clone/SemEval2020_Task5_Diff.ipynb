{
  "nbformat": 4,
  "nbformat_minor": 0,
  "metadata": {
    "colab": {
      "name": "SemEval2020_Task5_Diff.ipynb",
      "provenance": [],
      "collapsed_sections": []
    },
    "kernelspec": {
      "name": "python3",
      "display_name": "Python 3"
    }
  },
  "cells": [
    {
      "cell_type": "code",
      "metadata": {
        "id": "vEocJmEt56lc"
      },
      "source": [
        "from google.colab import drive\n",
        "drive.mount('/content/gdrive')\n",
        "\n",
        "!cp /content/gdrive/My\\ Drive/Colab\\ Notebooks/Subtask-2/report.csv /content\n",
        "!cp /content/gdrive/My\\ Drive/Colab\\ Notebooks/Subtask-2/report1.csv /content\n",
        "!cp /content/gdrive/My\\ Drive/Colab\\ Notebooks/Subtask-2/report2.csv /content"
      ],
      "execution_count": null,
      "outputs": []
    },
    {
      "cell_type": "code",
      "metadata": {
        "id": "2uJ29HymJBP3"
      },
      "source": [
        "pip install pandas==1.1.0"
      ],
      "execution_count": null,
      "outputs": []
    },
    {
      "cell_type": "code",
      "metadata": {
        "id": "bBrt6E7V9B3a"
      },
      "source": [
        "import pandas as pd\n",
        "\n",
        "prefix = '/content/'\n",
        "\n",
        "df = pd.read_csv(prefix + 'report.csv', header=None) \n",
        "df = df.drop(index=0)\n",
        "df = pd.DataFrame({\n",
        "    'sentenceID': df[0],\n",
        "    'clabel': df[1],\n",
        "    #'cprob': df[2],\n",
        "    #'cdep' : df[3],\n",
        "    'consequent': df[4], \n",
        "    'cstart': df[5],\n",
        "    'cend': df[6],\n",
        "    'antecedent': df[7], \n",
        "    'astart': df[8],\n",
        "    'aend': df[9],\n",
        "    'alabel': df[10],\n",
        "    #'aprob': df[11]\n",
        "  }  \n",
        ")\n",
        "\n",
        "df1 = pd.read_csv(prefix + 'report1.csv', header=None) \n",
        "df1 = df1.drop(index=0)\n",
        "df1 = pd.DataFrame({\n",
        "    'sentenceID': df1[0],\n",
        "    'clabel': df1[1],\n",
        "    #'cprob': df1[2],\n",
        "    #'cdep' : df1[3],\n",
        "    'consequent': df1[4], \n",
        "    'cstart': df1[5],\n",
        "    'cend': df1[6],\n",
        "    'antecedent': df1[7], \n",
        "    'astart': df1[8],\n",
        "    'aend': df1[9],\n",
        "    'alabel': df1[10],\n",
        "    #'aprob': df1[11]\n",
        "  }  \n",
        ")"
      ],
      "execution_count": null,
      "outputs": []
    },
    {
      "cell_type": "code",
      "metadata": {
        "id": "fby0e6W7IMhg"
      },
      "source": [
        "df.compare(df1,keep_equal=True, align_axis='index')"
      ],
      "execution_count": null,
      "outputs": []
    }
  ]
}