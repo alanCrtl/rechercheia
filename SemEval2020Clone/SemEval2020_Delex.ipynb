{
  "nbformat": 4,
  "nbformat_minor": 0,
  "metadata": {
    "colab": {
      "name": "SemEval2020-Delex.ipynb",
      "provenance": [],
      "collapsed_sections": [],
      "toc_visible": true,
      "include_colab_link": true
    },
    "kernelspec": {
      "name": "python3",
      "display_name": "Python 3"
    },
    "accelerator": "GPU"
  },
  "cells": [
    {
      "cell_type": "markdown",
      "metadata": {
        "id": "view-in-github",
        "colab_type": "text"
      },
      "source": [
        "<a href=\"https://colab.research.google.com/github/lenyabloko/SemEval2020/blob/master/SemEval2020_Delex.ipynb\" target=\"_parent\"><img src=\"https://colab.research.google.com/assets/colab-badge.svg\" alt=\"Open In Colab\"/></a>"
      ]
    },
    {
      "cell_type": "markdown",
      "metadata": {
        "id": "U1VkwsR6Tp2K",
        "colab_type": "text"
      },
      "source": [
        "UPLOAD FILES - Place [train.csv](https://github.com/arielsho/Subtask-1/archive/master.zip) and [test.csv](https://github.com/arielsho/Subtask-1-test/archive/master.zip) files directly under your `gdrive/My Drive/Subtask-1/`, before starting (follow the prompt URL and get authentication token)"
      ]
    },
    {
      "cell_type": "code",
      "metadata": {
        "id": "p3GfRjjaUfMv",
        "colab_type": "code",
        "outputId": "af258aba-d6a3-4650-d54b-0d73cefd2a92",
        "colab": {
          "base_uri": "https://localhost:8080/",
          "height": 51
        }
      },
      "source": [
        "from google.colab import drive\n",
        "drive.mount('/content/gdrive')\n",
        "\n",
        "#from google.colab import files\n",
        "#uploaded = files.upload()\n",
        "\n",
        "!cp /content/gdrive/My\\ Drive/Colab\\ Notebooks/Subtask-1/train.csv /content\n",
        "!cp /content/gdrive/My\\ Drive/Colab\\ Notebooks/Subtask-1/test.csv /content\n",
        "\n",
        "!cp /content/gdrive/My\\ Drive/Colab\\ Notebooks/Subtask-1/train_delex.jsonl /content\n",
        "!cp /content/gdrive/My\\ Drive/Colab\\ Notebooks/Subtask-1/test_delex.jsonl /content"
      ],
      "execution_count": 27,
      "outputs": [
        {
          "output_type": "stream",
          "text": [
            "Drive already mounted at /content/gdrive; to attempt to forcibly remount, call drive.mount(\"/content/gdrive\", force_remount=True).\n",
            "cp: cannot stat '/content/gdrive/My Drive/Colab Notebooks/Subtask-1/test_delex.jsonl': No such file or directory\n"
          ],
          "name": "stdout"
        }
      ]
    },
    {
      "cell_type": "markdown",
      "metadata": {
        "id": "C1aTA5OXdvqn",
        "colab_type": "text"
      },
      "source": [
        "FORMAT DATA"
      ]
    },
    {
      "cell_type": "code",
      "metadata": {
        "id": "pcCOsgyHbnrP",
        "colab_type": "code",
        "outputId": "29725045-d594-4702-d591-3d5597b79b4e",
        "colab": {
          "base_uri": "https://localhost:8080/",
          "height": 204
        }
      },
      "source": [
        "import pandas as pd\n",
        "\n",
        "prefix = '/content/'\n",
        "train_df = pd.read_csv(prefix + 'train.csv', header=None)\n",
        "train_df=train_df.drop(index=0)\n",
        "  \n",
        "train_df = pd.DataFrame({\n",
        "    'claim': train_df[2].replace(r'\\n', ' ', regex=True),\n",
        "    'evidence': ['sentenceID-']+train_df[0],\n",
        "    'label':train_df[1]\n",
        "})\n",
        "\n",
        "train_df.head()"
      ],
      "execution_count": 28,
      "outputs": [
        {
          "output_type": "execute_result",
          "data": {
            "text/html": [
              "<div>\n",
              "<style scoped>\n",
              "    .dataframe tbody tr th:only-of-type {\n",
              "        vertical-align: middle;\n",
              "    }\n",
              "\n",
              "    .dataframe tbody tr th {\n",
              "        vertical-align: top;\n",
              "    }\n",
              "\n",
              "    .dataframe thead th {\n",
              "        text-align: right;\n",
              "    }\n",
              "</style>\n",
              "<table border=\"1\" class=\"dataframe\">\n",
              "  <thead>\n",
              "    <tr style=\"text-align: right;\">\n",
              "      <th></th>\n",
              "      <th>claim</th>\n",
              "      <th>evidence</th>\n",
              "      <th>label</th>\n",
              "    </tr>\n",
              "  </thead>\n",
              "  <tbody>\n",
              "    <tr>\n",
              "      <th>1</th>\n",
              "      <td>Goodfellow's theory has been questioned, howev...</td>\n",
              "      <td>sentenceID-100000</td>\n",
              "      <td>1</td>\n",
              "    </tr>\n",
              "    <tr>\n",
              "      <th>2</th>\n",
              "      <td>However, both campaigners and pro-People's Vot...</td>\n",
              "      <td>sentenceID-100001</td>\n",
              "      <td>1</td>\n",
              "    </tr>\n",
              "    <tr>\n",
              "      <th>3</th>\n",
              "      <td>Things could have been even better if the whol...</td>\n",
              "      <td>sentenceID-100002</td>\n",
              "      <td>1</td>\n",
              "    </tr>\n",
              "    <tr>\n",
              "      <th>4</th>\n",
              "      <td>The new request, if approved, would keep the m...</td>\n",
              "      <td>sentenceID-100003</td>\n",
              "      <td>0</td>\n",
              "    </tr>\n",
              "    <tr>\n",
              "      <th>5</th>\n",
              "      <td>Companies in financial difficulty can currentl...</td>\n",
              "      <td>sentenceID-100004</td>\n",
              "      <td>0</td>\n",
              "    </tr>\n",
              "  </tbody>\n",
              "</table>\n",
              "</div>"
            ],
            "text/plain": [
              "                                               claim           evidence label\n",
              "1  Goodfellow's theory has been questioned, howev...  sentenceID-100000     1\n",
              "2  However, both campaigners and pro-People's Vot...  sentenceID-100001     1\n",
              "3  Things could have been even better if the whol...  sentenceID-100002     1\n",
              "4  The new request, if approved, would keep the m...  sentenceID-100003     0\n",
              "5  Companies in financial difficulty can currentl...  sentenceID-100004     0"
            ]
          },
          "metadata": {
            "tags": []
          },
          "execution_count": 28
        }
      ]
    },
    {
      "cell_type": "code",
      "metadata": {
        "id": "54KBMEcMWWqC",
        "colab_type": "code",
        "outputId": "d2355df8-dafd-4f2b-d454-6ed820fb6eb8",
        "colab": {
          "base_uri": "https://localhost:8080/",
          "height": 204
        }
      },
      "source": [
        "import pandas as pd\n",
        "\n",
        "prefix = '/content/'\n",
        "test_df = pd.read_csv(prefix + 'test.csv', header=None)\n",
        "test_df = test_df.drop(index=0)\n",
        "  \n",
        "test_df = pd.DataFrame({\n",
        "    'claim': test_df[1].replace(r'\\n', ' ', regex=True),\n",
        "    'evidence': ['sentenceID-']+test_df[0],\n",
        "    'label':'0'\n",
        "})\n",
        "test_df.head()"
      ],
      "execution_count": 0,
      "outputs": [
        {
          "output_type": "execute_result",
          "data": {
            "text/html": [
              "<div>\n",
              "<style scoped>\n",
              "    .dataframe tbody tr th:only-of-type {\n",
              "        vertical-align: middle;\n",
              "    }\n",
              "\n",
              "    .dataframe tbody tr th {\n",
              "        vertical-align: top;\n",
              "    }\n",
              "\n",
              "    .dataframe thead th {\n",
              "        text-align: right;\n",
              "    }\n",
              "</style>\n",
              "<table border=\"1\" class=\"dataframe\">\n",
              "  <thead>\n",
              "    <tr style=\"text-align: right;\">\n",
              "      <th></th>\n",
              "      <th>claim</th>\n",
              "      <th>evidence</th>\n",
              "      <th>label</th>\n",
              "    </tr>\n",
              "  </thead>\n",
              "  <tbody>\n",
              "    <tr>\n",
              "      <th>1</th>\n",
              "      <td>Unfortunately, letting them behave badly -- be...</td>\n",
              "      <td>sentenceID-113000</td>\n",
              "      <td>0</td>\n",
              "    </tr>\n",
              "    <tr>\n",
              "      <th>2</th>\n",
              "      <td>If PEPFAR ended antiretroviral coverage to a t...</td>\n",
              "      <td>sentenceID-113001</td>\n",
              "      <td>0</td>\n",
              "    </tr>\n",
              "    <tr>\n",
              "      <th>3</th>\n",
              "      <td>Republicans may not have read their bill befor...</td>\n",
              "      <td>sentenceID-113002</td>\n",
              "      <td>0</td>\n",
              "    </tr>\n",
              "    <tr>\n",
              "      <th>4</th>\n",
              "      <td>People close to Mr. Trump have suggested that ...</td>\n",
              "      <td>sentenceID-113003</td>\n",
              "      <td>0</td>\n",
              "    </tr>\n",
              "    <tr>\n",
              "      <th>5</th>\n",
              "      <td>This must all happen fast if policies are to t...</td>\n",
              "      <td>sentenceID-113004</td>\n",
              "      <td>0</td>\n",
              "    </tr>\n",
              "  </tbody>\n",
              "</table>\n",
              "</div>"
            ],
            "text/plain": [
              "                                               claim           evidence label\n",
              "1  Unfortunately, letting them behave badly -- be...  sentenceID-113000     0\n",
              "2  If PEPFAR ended antiretroviral coverage to a t...  sentenceID-113001     0\n",
              "3  Republicans may not have read their bill befor...  sentenceID-113002     0\n",
              "4  People close to Mr. Trump have suggested that ...  sentenceID-113003     0\n",
              "5  This must all happen fast if policies are to t...  sentenceID-113004     0"
            ]
          },
          "metadata": {
            "tags": []
          },
          "execution_count": 23
        }
      ]
    },
    {
      "cell_type": "code",
      "metadata": {
        "id": "qC5wBtbEfYGA",
        "colab_type": "code",
        "colab": {}
      },
      "source": [
        "train_df.to_json(prefix+'train.jsonl', orient='records',lines=True)\n",
        "test_df.to_json(prefix+'test.jsonl', orient='records', lines=True)"
      ],
      "execution_count": 0,
      "outputs": []
    },
    {
      "cell_type": "code",
      "metadata": {
        "id": "6WDJt1yF2A0G",
        "colab_type": "code",
        "colab": {}
      },
      "source": [
        "!cp /content/train.jsonl /content/gdrive/My\\ Drive/Colab\\ Notebooks/Subtask-1/ \n",
        "!cp /content/test.jsonl /content/gdrive/My\\ Drive/Colab\\ Notebooks/Subtask-1/  "
      ],
      "execution_count": 0,
      "outputs": []
    },
    {
      "cell_type": "code",
      "metadata": {
        "id": "szVaybesqvfU",
        "colab_type": "code",
        "colab": {}
      },
      "source": [
        "#https://docs.docker.com/install/linux/docker-ce/debian/\n",
        "sudo apt update\n",
        "#sudo apt-get install -y software-properties-common\n",
        "sudo apt-get install \\\n",
        "    apt-transport-https \\\n",
        "    ca-certificates \\\n",
        "    curl \\\n",
        "    gnupg2 \\\n",
        "    software-properties-common\n",
        "\n",
        "curl -fsSL https://download.docker.com/linux/ubuntu/gpg | sudo apt-key add -\n",
        "sudo apt-key fingerprint 0EBFCD88\n",
        "\n",
        "curl https://packages.cloud.google.com/apt/doc/apt-key.gpg | sudo apt-key --keyring /usr/share/keyrings/cloud.google.gpg add -\n",
        "\n",
        "#sudo add-apt-repository \"deb [arch=amd64] https://download.docker.com/linux/ubuntu bionic stable\"\n",
        "sudo add-apt-repository \\\n",
        "   \"deb [arch=amd64] https://download.docker.com/linux/debian \\\n",
        "   $(lsb_release -cs) \\\n",
        "   stable\"\n",
        "\n",
        "sudo apt-get update\n",
        "# List versions available in yor repository\n",
        "apt-cache madison docker-ce\n",
        "\n",
        "curl -O https://download.docker.com/linux/ubuntu/dists/bionic/pool/edge/amd64/containerd.io_1.2.2-3_amd64.deb\n",
        "sudo apt install ./containerd.io_1.2.2-3_amd64.deb\n",
        "sudo apt install docker-ce\n",
        "sudo docker pull myedibleenso/processors-server:\n",
        "sudo docker run myedibleenso/processors-server\n",
        "sudo docker start procserv\n",
        "#sudo docker run -d -e _JAVA_OPTIONS=\"-Xmx3G\" -p 127.0.0.1:8886:8888 --name procserv myedibleenso/processors-server"
      ],
      "execution_count": 0,
      "outputs": []
    },
    {
      "cell_type": "code",
      "metadata": {
        "id": "n06nIM0MnP7A",
        "colab_type": "code",
        "colab": {}
      },
      "source": [
        "sudo apt install bzip2\n",
        "wget -c https://repo.continuum.io/archive/Anaconda3-5.2.0-Linux-x86_64.sh\n",
        "sudo bash ./Anaconda3-5.2.0-Linux-x86_64.sh -b -f -p /usr/local"
      ],
      "execution_count": 0,
      "outputs": []
    },
    {
      "cell_type": "code",
      "metadata": {
        "id": "z296mNiQpW-1",
        "colab_type": "code",
        "colab": {}
      },
      "source": [
        "conda create --name delex python=3\n",
        "source activate delex\n",
        "sudo pip install tqdm\n",
        "sudo pip install clean-text\n",
        "sudo pip install git+https://github.com/myedibleenso/py-processors.git"
      ],
      "execution_count": 0,
      "outputs": []
    },
    {
      "cell_type": "code",
      "metadata": {
        "id": "AvertbnCoRm4",
        "colab_type": "code",
        "colab": {}
      },
      "source": [
        "mkdir -p data\n",
        "mkdir -p outputs\n",
        "mkdir -p sstagged_files"
      ],
      "execution_count": 0,
      "outputs": []
    },
    {
      "cell_type": "code",
      "metadata": {
        "id": "GDnpeIKHtK49",
        "colab_type": "code",
        "colab": {}
      },
      "source": [
        "mv train.jsonl data"
      ],
      "execution_count": 0,
      "outputs": []
    },
    {
      "cell_type": "code",
      "metadata": {
        "id": "VP9AxnOilWQy",
        "colab_type": "code",
        "colab": {}
      },
      "source": [
        "python main.py --pyproc_port 8886 --use_docker True --convert_prepositions False --create_smart_NERs True --inputFile data/train.jsonl"
      ],
      "execution_count": 0,
      "outputs": []
    },
    {
      "cell_type": "code",
      "metadata": {
        "id": "xoSp8xRVuOJs",
        "colab_type": "code",
        "outputId": "c3c875da-c022-4369-8048-1ca5f9963286",
        "colab": {
          "base_uri": "https://localhost:8080/",
          "height": 204
        }
      },
      "source": [
        "import pandas as pd\n",
        "\n",
        "prefix = '/content/'\n",
        "train_df = pd.read_json(prefix + 'train_delex.jsonl', orient='records',lines=True)\n",
        "\n",
        "train_df.head()"
      ],
      "execution_count": 39,
      "outputs": [
        {
          "output_type": "execute_result",
          "data": {
            "text/html": [
              "<div>\n",
              "<style scoped>\n",
              "    .dataframe tbody tr th:only-of-type {\n",
              "        vertical-align: middle;\n",
              "    }\n",
              "\n",
              "    .dataframe tbody tr th {\n",
              "        vertical-align: top;\n",
              "    }\n",
              "\n",
              "    .dataframe thead th {\n",
              "        text-align: right;\n",
              "    }\n",
              "</style>\n",
              "<table border=\"1\" class=\"dataframe\">\n",
              "  <thead>\n",
              "    <tr style=\"text-align: right;\">\n",
              "      <th></th>\n",
              "      <th>claim</th>\n",
              "      <th>evidence</th>\n",
              "      <th>label</th>\n",
              "    </tr>\n",
              "  </thead>\n",
              "  <tbody>\n",
              "    <tr>\n",
              "      <th>0</th>\n",
              "      <td>Goodfellows theory has been questioned however...</td>\n",
              "      <td>sentenceID100000</td>\n",
              "      <td>1</td>\n",
              "    </tr>\n",
              "    <tr>\n",
              "      <th>1</th>\n",
              "      <td>However both campaigners and proPeoples Vote M...</td>\n",
              "      <td>sentenceID100001</td>\n",
              "      <td>1</td>\n",
              "    </tr>\n",
              "    <tr>\n",
              "      <th>2</th>\n",
              "      <td>Things could have been even better if the whol...</td>\n",
              "      <td>sentenceID100002</td>\n",
              "      <td>1</td>\n",
              "    </tr>\n",
              "    <tr>\n",
              "      <th>3</th>\n",
              "      <td>The new request if approved would keep the mil...</td>\n",
              "      <td>sentenceID100003</td>\n",
              "      <td>0</td>\n",
              "    </tr>\n",
              "    <tr>\n",
              "      <th>4</th>\n",
              "      <td>Companies in financial difficulty can DATEc1 o...</td>\n",
              "      <td>sentenceID100004</td>\n",
              "      <td>0</td>\n",
              "    </tr>\n",
              "  </tbody>\n",
              "</table>\n",
              "</div>"
            ],
            "text/plain": [
              "                                               claim          evidence  label\n",
              "0  Goodfellows theory has been questioned however...  sentenceID100000      1\n",
              "1  However both campaigners and proPeoples Vote M...  sentenceID100001      1\n",
              "2  Things could have been even better if the whol...  sentenceID100002      1\n",
              "3  The new request if approved would keep the mil...  sentenceID100003      0\n",
              "4  Companies in financial difficulty can DATEc1 o...  sentenceID100004      0"
            ]
          },
          "metadata": {
            "tags": []
          },
          "execution_count": 39
        }
      ]
    }
  ]
}