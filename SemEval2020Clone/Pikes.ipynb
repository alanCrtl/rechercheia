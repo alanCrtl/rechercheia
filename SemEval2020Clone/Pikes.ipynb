{
  "nbformat": 4,
  "nbformat_minor": 0,
  "metadata": {
    "colab": {
      "name": "Pikes.ipynb",
      "provenance": [],
      "authorship_tag": "ABX9TyPArNwQtp/eG0c4LMVxtESM",
      "include_colab_link": true
    },
    "kernelspec": {
      "name": "python3",
      "display_name": "Python 3"
    }
  },
  "cells": [
    {
      "cell_type": "markdown",
      "metadata": {
        "id": "view-in-github",
        "colab_type": "text"
      },
      "source": [
        "<a href=\"https://colab.research.google.com/github/lenyabloko/SemEval2020/blob/master/Pikes.ipynb\" target=\"_parent\"><img src=\"https://colab.research.google.com/assets/colab-badge.svg\" alt=\"Open In Colab\"/></a>"
      ]
    },
    {
      "cell_type": "code",
      "metadata": {
        "id": "U7JyNPIbv9db",
        "colab_type": "code",
        "colab": {}
      },
      "source": [
        "sudo apt-get install openjdk-8-jdk\n",
        "sudo apt-get install maven\n",
        "\n",
        "wget https://knowledgestore.fbk.eu/files/pikes/download/pikes-all.tar.gz # Download the full package\n",
        "tar xzf pikes-all.tar.gz\n",
        "cd pikes\n",
        "bash run.sh\n",
        "gcloud compute firewall-rules create pikes --allow tcp:8011 --source-tags=pikes --source-ranges=0.0.0.0/0 --description=\"pikes instance web server\""
      ],
      "execution_count": 0,
      "outputs": []
    },
    {
      "cell_type": "code",
      "metadata": {
        "id": "5qozH_E2R5WT",
        "colab_type": "code",
        "colab": {}
      },
      "source": [
        "#!pip install stanfordnlp\n",
        "\n",
        "import os\n",
        "os.environ['PYTHONPATH'] = \"/usr/local/bin/python\"\n",
        "!echo $PYTHONPATH\n",
        "!which python\n",
        "!python --version\n",
        "\n",
        "import sys\n",
        "sys.path.append('/usr/local/lib/python3.6/site-packages/')\n",
        "\n",
        "import stanfordnlp\n",
        "stanfordnlp.download('en', force=True)   \n",
        "\n",
        "nlp = stanfordnlp.Pipeline() # This sets up a default neural pipeline in English\n",
        "doc = nlp(\"Barack Obama was born in Hawaii.  He was elected president in 2008.\")\n",
        "doc.sentences[0].print_dependencies()"
      ],
      "execution_count": 0,
      "outputs": []
    },
    {
      "cell_type": "code",
      "metadata": {
        "id": "iUH-0CG-BqmG",
        "colab_type": "code",
        "colab": {}
      },
      "source": [
        "from google.colab import drive\n",
        "drive.mount('/content/gdrive')\n",
        "\n",
        "#!cp /content/gdrive/My\\ Drive/Colab\\ Notebooks/Subtask-1/train_delex.jsonl /content\n",
        "#!cp /content/gdrive/My\\ Drive/Colab\\ Notebooks/Subtask-1/test_delex.jsonl /content"
      ],
      "execution_count": 0,
      "outputs": []
    },
    {
      "cell_type": "code",
      "metadata": {
        "id": "J4SDmlthCAsg",
        "colab_type": "code",
        "colab": {}
      },
      "source": [
        "import pandas as pd\n",
        "\n",
        "prefix = '/content/'\n",
        "#train_df = pd.read_json(prefix + 'test_delex.jsonl', orient='records', lines=True)\n",
        "df = pd.read_json(prefix + 'test_delex.jsonl', orient='columns')\n",
        "df.head()"
      ],
      "execution_count": 0,
      "outputs": []
    },
    {
      "cell_type": "code",
      "metadata": {
        "id": "egMaRFskDWCF",
        "colab_type": "code",
        "colab": {}
      },
      "source": [
        "# requests for fetching html of website\n",
        "import requests\n",
        "\n",
        "endpoint = 'http://35.245.146.92:8011/text2naf?text='\n",
        "\n",
        "# Make the request to a url\n",
        "r = requests.get(endpoint)\n",
        "c = r.content\n",
        "print(c)"
      ],
      "execution_count": 0,
      "outputs": []
    },
    {
      "cell_type": "code",
      "metadata": {
        "id": "ooBZnALEcloO",
        "colab_type": "code",
        "colab": {}
      },
      "source": [
        "#!pip install corenlp_xml\n",
        "!pip install corenlp-xml\n",
        "from corenlp_xml.document import Document\n",
        "\n",
        "# requests for fetching html of website\n",
        "import requests\n",
        "\n",
        "endpoint = 'http://35.245.146.92:8011/text2naf?text='\n",
        "\n",
        "for i in range(len(df)-6990) : \n",
        "  input_text = df.loc[i, \"claim\"]\n",
        "  output_xml = requests.get(endpoint+input_text).content\n",
        "  print(output_xml)\n",
        "\n",
        "  d = Document(output_xml)\n",
        "  print(d.sentences)\n",
        "\n",
        "  for sentence in d.sentences:\n",
        "    print(sentence)\n",
        "    for token in sentence:\n",
        "      print(token.word)"
      ],
      "execution_count": 0,
      "outputs": []
    },
    {
      "cell_type": "code",
      "metadata": {
        "id": "r7Rr_vlbQYSa",
        "colab_type": "code",
        "colab": {}
      },
      "source": [
        "!pip install corenlpy\n",
        "!pip install corenlp-xml-reader\n",
        "\n",
        "from corenlpy import AnnotatedText as A\n",
        "\n",
        "# requests for fetching html of website\n",
        "import requests\n",
        "\n",
        "endpoint = 'http://35.245.146.92:8011/text2naf?text='\n",
        "\n",
        "for i in range(len(df)-6990) : \n",
        "  input_text = df.loc[i, \"claim\"]\n",
        "  output_xml = requests.get(endpoint+input_text).content\n",
        "  print(output_xml)\n",
        "\n",
        "  xml = open(output_xml).read()\n",
        "  annotated_text = A(xml)\n",
        "  print(annotated_text)\n",
        "\n",
        "  #Usually you’ll access parts of the document using the sentences list.\n",
        "  len(annotated_text.sentences)\n",
        "  sentence = annotated_text.sentences[0]\n",
        "  print(sentence)\n",
        "  print(sentence.keys())\n",
        "  #['tokens', 'entities', 'references', 'mentions', 'root', 'id']\n",
        "\n",
        "  #A Sentence is a special class that, for the most part, feels like a simple dict.\n",
        "  #The tokens property is a list of the sentence’s tokens:\n",
        "\n",
        "  tokens = sentence['tokens'][1]\n",
        "  print(tokens)\n",
        "  #' 0: Obama (10,14) NNP PERSON'\n",
        "\n",
        "  term = sentence['tokens'][7]\n",
        "  print(term)\n",
        "\n",
        "  keys = tokens.keys()\n",
        "  print(keys)\n",
        "  #['word', 'character_offset_begin', 'character_offset_end', 'pos',\n"
      ],
      "execution_count": 0,
      "outputs": []
    }
  ]
}