{
  "nbformat": 4,
  "nbformat_minor": 0,
  "metadata": {
    "colab": {
      "name": "SemEval2020.ipynb",
      "provenance": [],
      "collapsed_sections": [],
      "toc_visible": true,
      "include_colab_link": true
    },
    "kernelspec": {
      "name": "python3",
      "display_name": "Python 3"
    },
    "accelerator": "GPU"
  },
  "cells": [
    {
      "cell_type": "markdown",
      "metadata": {
        "id": "view-in-github",
        "colab_type": "text"
      },
      "source": [
        "<a href=\"https://colab.research.google.com/github/lenyabloko/SemEval2020/blob/master/SemEval2020.ipynb\" target=\"_parent\"><img src=\"https://colab.research.google.com/assets/colab-badge.svg\" alt=\"Open In Colab\"/></a>"
      ]
    },
    {
      "cell_type": "code",
      "metadata": {
        "id": "uvECgjVkNlQl",
        "colab_type": "code",
        "colab": {}
      },
      "source": [
        "!pip install transformers\n",
        "!pip install tensorboardx\n",
        "!pip install simpletransformers"
      ],
      "execution_count": 0,
      "outputs": []
    },
    {
      "cell_type": "markdown",
      "metadata": {
        "id": "HzF9-c8gKWQo",
        "colab_type": "text"
      },
      "source": [
        "UPLOAD FILES - Place [train.csv](https://github.com/arielsho/Subtask-1/archive/master.zip) file directly under your `gdrive/My Drive/Subtask-1/`, before uploading it here (you will need to open browser and get authentication token)"
      ]
    },
    {
      "cell_type": "code",
      "metadata": {
        "id": "p46msfxumJRX",
        "colab_type": "code",
        "colab": {}
      },
      "source": [
        "from google.colab import drive\n",
        "drive.mount('/content/gdrive')\n",
        "\n",
        "#from google.colab import files\n",
        "#uploaded = files.upload()\n",
        "\n",
        "!cp /content/gdrive/My\\ Drive/Colab\\ Notebooks/Subtask-1/train.csv /content\n",
        "\n",
        "import pandas as pd\n",
        "prefix = '/content/'\n",
        "train_df = pd.read_csv(prefix + 'train.csv', header=None)\n",
        "train_df = train_df.drop(index=0)\n",
        "\n",
        "# display \n",
        "train_df.head()"
      ],
      "execution_count": 0,
      "outputs": []
    },
    {
      "cell_type": "code",
      "metadata": {
        "id": "4Rv65DyjmpFz",
        "colab_type": "code",
        "colab": {}
      },
      "source": [
        "dev_df = pd.DataFrame({\n",
        "    'id':train_df[0],\n",
        "    'labels':train_df[1],\n",
        "    'alpha':['a']*train_df.shape[0],\n",
        "    'text': train_df[2].replace(r'\\n', ' ', regex=True)\n",
        "})\n",
        "\n",
        "train_df = pd.DataFrame({\n",
        "    'id':train_df[0],\n",
        "    'labels':train_df[1],\n",
        "    'alpha':['a']*train_df.shape[0],\n",
        "    'text': train_df[2].replace(r'\\n', ' ', regex=True)\n",
        "})\n",
        "\n",
        "dev_df.head()"
      ],
      "execution_count": 0,
      "outputs": []
    },
    {
      "cell_type": "code",
      "metadata": {
        "id": "uz8lcjZ1m2gL",
        "colab_type": "code",
        "colab": {}
      },
      "source": [
        "train_df.to_csv(prefix+'train.tsv', sep='\\t', index=False, header=False)\n",
        "dev_df.to_csv(prefix + 'dev.tsv', sep='\\t', index=False, header=False)"
      ],
      "execution_count": 0,
      "outputs": []
    },
    {
      "cell_type": "code",
      "metadata": {
        "id": "pcCOsgyHbnrP",
        "colab_type": "code",
        "colab": {}
      },
      "source": [
        "from simpletransformers.classification import ClassificationModel\n",
        "\n",
        "from sklearn.model_selection import train_test_split\n",
        "\n",
        "from tqdm import tqdm_notebook\n",
        "\n",
        "args = {\n",
        "   'model_type':  'roberta',\n",
        "   'model_name': 'roberta-base',\n",
        "   'output_dir': 'outputs/',\n",
        "   'cache_dir': 'cache/',\n",
        "'fp16': True,\n",
        "   'fp16_opt_level': 'O1',\n",
        "   'max_seq_length': 128,\n",
        "   'train_batch_size': 8,\n",
        "   'eval_batch_size': 8,\n",
        "   'gradient_accumulation_steps': 1,\n",
        "   'num_train_epochs': 1,\n",
        "   'weight_decay': 0,\n",
        "   'learning_rate': 4e-5,\n",
        "   'adam_epsilon': 1e-8,\n",
        "   'warmup_ratio': 0.06,\n",
        "   'warmup_steps': 0,\n",
        "   'max_grad_norm': 1.0,\n",
        "'logging_steps': 50,\n",
        "   'evaluate_during_training': False,\n",
        "   'save_steps': 2000,\n",
        "   'eval_all_checkpoints': True,\n",
        "   'use_tensorboard': True,\n",
        "'overwrite_output_dir': False,\n",
        "   'reprocess_input_data': True\n",
        "}\n",
        "\n",
        "# Create a TransformerModel\n",
        "model = ClassificationModel('roberta', 'roberta-base', args=args)\n",
        "#model = simpletransformers.TransformerModel('bert', 'bert-base-cased', args={'num_train_epochs': 1, 'learning_rate': 3e-5})\n",
        "\n",
        "# Train the model\n",
        "model.train_model(train_df)\n",
        "\n",
        "# Evaluate the model\n",
        "result, model_outputs, wrong_predictions = model.eval_model(eval_df)\n",
        "\n",
        "!cp /content/args.json /content/outputs\n",
        "!mv /content/outputs /content/gdrive/My\\ Drive/Colab\\ Notebooks/Subtask-1/              "
      ],
      "execution_count": 0,
      "outputs": []
    }
  ]
}